{
 "metadata": {
  "name": ""
 },
 "nbformat": 3,
 "nbformat_minor": 0,
 "worksheets": [
  {
   "cells": [
    {
     "cell_type": "markdown",
     "metadata": {},
     "source": [
      "###My plan for HAMR 2014\n",
      "\n",
      "Short-term goal: detailed linkage between recording and performers\n",
      "Long-term goal: scale up annotation to the point where multiple-instance learning for instrument detectors is feasible\n",
      "\n",
      "1. Pull artist data from [Discogs](http://www.discogs.com/data/)\n",
      "1. Full-text index on artist biographies, extract for instrumental keywords\n",
      "1. Build an artist network via group membership and collaboration\n",
      "1. Match artists to tracks in a chosen corpus (CAL10k)\n",
      "1. Synthesize track-level instrument annotations\n",
      "\n",
      "Bonus round:\n",
      "\n",
      "* Make a web/d3 visualizer for artist networks\n",
      "* Make it text-searchable on the back-end\n",
      "\n",
      "---\n",
      "\n",
      "###Tools and Data\n",
      "\n",
      "1. Artist pull should be automated (urllib)\n",
      "1. Extract artist xml into a usable format (xml->json) \n",
      "   * https://wiki.python.org/moin/PythonXml\n",
      "   * http://stackoverflow.com/questions/7684333/converting-xml-to-dictionary-using-elementtree\n",
      "1. Full-text index of biographies via whoosh\n",
      "1. instrument keywords: aggressive stemming?  `piano` and `pianist` should count.  Where would these terms come from?\n",
      "   * http://en.wikipedia.org/wiki/List_of_musical_instruments (BeautifulSoup)\n",
      "   * location:demonym as instrument:??? figure this out\n",
      "   * Alternately, this is a partial list: http://www.find-a-musician.com/index.php\n",
      "1. Map cal10k to echo nest ids (already done)\n",
      "1. Map echo nest ids to discogs ids (bucket search)\n",
      "1. Artist network analysis (igraph)\n",
      "\n",
      "---\n",
      "\n",
      "### Other notes\n",
      "\n",
      "* Use the `data_quality` field as a filter\n",
      "* Use `extraartists` and search for `role` to get more precise information/guest artists\n",
      "   * Key up the track list, \"`A2 => 'song name'`\"\n",
      "   * Implement range search \"`B2 to B4`\"\n",
      "* Build the following data structures\n",
      "   1. artist name => id.  Include aliases and namevariations\n",
      "   1. artist membership/group\n",
      "   \n"
     ]
    },
    {
     "cell_type": "code",
     "collapsed": false,
     "input": [
      "import ujson as json\n",
      "import lxml.etree\n",
      "import lxml.objectify\n",
      "from pprint import pprint\n",
      "import cPickle as pickle"
     ],
     "language": "python",
     "metadata": {},
     "outputs": [],
     "prompt_number": 1
    },
    {
     "cell_type": "code",
     "collapsed": false,
     "input": [
      "def formatXML(node):\n",
      "    \"\"\"\n",
      "    Recursive operation which returns a tree formated\n",
      "    as dicts and lists.\n",
      "    Decision to add a list is to find the 'List' word\n",
      "    in the actual parent tag.   \n",
      "    \"\"\"\n",
      "    ret = {}\n",
      "    if node.items(): \n",
      "        ret.update(dict(node.items()))\n",
      "        \n",
      "    if node.text: \n",
      "        ret['__content__'] = node.text\n",
      "        \n",
      "    for element in node:\n",
      "        if element.tag not in ret:\n",
      "            ret[element.tag] = []\n",
      "        ret[element.tag].append(formatXML(element))\n",
      "        \n",
      "    # Flatten out any singletons\n",
      "    for tag in ret:\n",
      "        if isinstance(ret[tag], (list, tuple)) and len(ret[tag]) == 1:\n",
      "            ret[tag] = ret[tag][0]\n",
      "            \n",
      "    if len(ret) == 1 and '__content__' in ret:\n",
      "        return ret['__content__']\n",
      "    \n",
      "    return ret"
     ],
     "language": "python",
     "metadata": {},
     "outputs": [],
     "prompt_number": 2
    },
    {
     "cell_type": "code",
     "collapsed": false,
     "input": [
      "def jsonify(node):\n",
      "    obj = lxml.objectify.fromstring(lxml.etree.tostring(node))\n",
      "    return json.decode(json.encode(obj))"
     ],
     "language": "python",
     "metadata": {},
     "outputs": [],
     "prompt_number": 3
    },
    {
     "cell_type": "code",
     "collapsed": false,
     "input": [
      "tree = lxml.etree.parse('/home/bmcfee/data/discogs_20140101_artists.xml.gz')"
     ],
     "language": "python",
     "metadata": {},
     "outputs": [],
     "prompt_number": 4
    },
    {
     "cell_type": "code",
     "collapsed": false,
     "input": [
      "root = tree.getroot()"
     ],
     "language": "python",
     "metadata": {},
     "outputs": [],
     "prompt_number": 5
    },
    {
     "cell_type": "markdown",
     "metadata": {},
     "source": [
      "#Data structures\n",
      "\n",
      "  * name_to_artist_id : name -> Artist:  includes canonical name and any variations"
     ]
    },
    {
     "cell_type": "code",
     "collapsed": false,
     "input": [
      "formatXML(root.getchildren()[2])"
     ],
     "language": "python",
     "metadata": {},
     "outputs": [
      {
       "metadata": {},
       "output_type": "pyout",
       "prompt_number": 7,
       "text": [
        "{'aliases': {'name': ['Accent (3)',\n",
        "   'Crusher, The',\n",
        "   'Dinky Dog',\n",
        "   'J. Dawg',\n",
        "   'Size 9']},\n",
        " 'data_quality': 'Correct',\n",
        " 'groups': {'name': ['Abundance Of Cups',\n",
        "   'E-Culture',\n",
        "   'Force, The (23)',\n",
        "   'Jack Jones (4)',\n",
        "   'Just King And Wink']},\n",
        " 'id': '3',\n",
        " 'images': {'image': [{'height': '630',\n",
        "    'type': 'primary',\n",
        "    'uri': 'http://api.discogs.com/image/A-3-1222848119.jpeg',\n",
        "    'uri150': 'http://api.discogs.com/image/A-150-3-1222848119.jpeg',\n",
        "    'width': '500'},\n",
        "   {'height': '288',\n",
        "    'type': 'secondary',\n",
        "    'uri': 'http://api.discogs.com/image/A-3-1237576157.jpeg',\n",
        "    'uri150': 'http://api.discogs.com/image/A-150-3-1237576157.jpeg',\n",
        "    'width': '219'},\n",
        "   {'height': '280',\n",
        "    'type': 'secondary',\n",
        "    'uri': 'http://api.discogs.com/image/A-3-1222848084.jpeg',\n",
        "    'uri150': 'http://api.discogs.com/image/A-150-3-1222848084.jpeg',\n",
        "    'width': '380'},\n",
        "   {'height': '370',\n",
        "    'type': 'secondary',\n",
        "    'uri': 'http://api.discogs.com/image/A-3-1105100757.jpg',\n",
        "    'uri150': 'http://api.discogs.com/image/A-150-3-1105100757.jpg',\n",
        "    'width': '399'},\n",
        "   {'height': '199',\n",
        "    'type': 'secondary',\n",
        "    'uri': 'http://api.discogs.com/image/A-3-1105100775.gif',\n",
        "    'uri150': 'http://api.discogs.com/image/A-150-3-1105100775.gif',\n",
        "    'width': '200'},\n",
        "   {'height': '436',\n",
        "    'type': 'secondary',\n",
        "    'uri': 'http://api.discogs.com/image/A-3-1197950724.jpeg',\n",
        "    'uri150': 'http://api.discogs.com/image/A-150-3-1197950724.jpeg',\n",
        "    'width': '550'},\n",
        "   {'height': '661',\n",
        "    'type': 'secondary',\n",
        "    'uri': 'http://api.discogs.com/image/A-3-1222848102.jpeg',\n",
        "    'uri150': 'http://api.discogs.com/image/A-150-3-1222848102.jpeg',\n",
        "    'width': '600'},\n",
        "   {'height': '270',\n",
        "    'type': 'secondary',\n",
        "    'uri': 'http://api.discogs.com/image/A-3-1346818033-9232.jpeg',\n",
        "    'uri150': 'http://api.discogs.com/image/A-150-3-1346818033-9232.jpeg',\n",
        "    'width': '461'}]},\n",
        " 'name': 'Josh Wink',\n",
        " 'namevariations': {'name': ['DJ Josh Wink',\n",
        "   'DJ Wink',\n",
        "   'Dosh Wink',\n",
        "   'Hardrive: 2000',\n",
        "   'J Wink',\n",
        "   'J. Wink',\n",
        "   'J. Wink (DJ  Wink)',\n",
        "   'J. Winkelman',\n",
        "   'J. Winkelmann',\n",
        "   'J.Wink',\n",
        "   'J.Winkelman',\n",
        "   'Josh',\n",
        "   'Josh Wink (DJ WINK)',\n",
        "   'Josh Winkelman',\n",
        "   'Josh Winkelmann',\n",
        "   'Josh Winks',\n",
        "   'Josh Winx',\n",
        "   'JW',\n",
        "   'Unknown Artist',\n",
        "   'Winc',\n",
        "   'Wink',\n",
        "   'Wink (Feat The Interpreters)',\n",
        "   'Winks',\n",
        "   'Winx',\n",
        "   'Winxs']},\n",
        " 'profile': u\"After forming [l=Ovum Recordings] as an independent label in October 1994 with former partner [a=King Britt], Josh recorded the cult classic 'Liquid Summer'. He went on to release singles for a wide variety of revered European labels ranging from Belgium's [l=R & S Records] to England's [l=XL Recordings]. In 1995, Wink became one of the first DJ-producers to translate his hard work into mainstream success when he unleashed a string of classics including 'Don't Laugh'\\xb8 'I'm Ready' and 'Higher State of Consciousness' that topped charts worldwide. More recently he has had massive club hits such as 'How's Your Evening So Far' and 'Superfreak' but he has also gained a lot of attention trough his remixes for [a=FC Kahuna], [a=Paul Oakenfold], [a=Ladytron], [a=Clint Mansell], [a=Sting] and [a=Depeche Mode], among others.\",\n",
        " 'realname': 'Joshua Winkelman',\n",
        " 'urls': {'url': ['http://www.joshwink.com/',\n",
        "   'http://www.ovum-rec.com/',\n",
        "   'http://www.myspace.com/joshwink',\n",
        "   'http://www.myspace.com/ovumrecordings',\n",
        "   'http://www.deejaybooking.com/joshwink',\n",
        "   'http://twitter.com/joshwink1']}}"
       ]
      }
     ],
     "prompt_number": 7
    },
    {
     "cell_type": "code",
     "collapsed": false,
     "input": [
      "id_to_name = {}\n",
      "\n",
      "for i, artist in enumerate(root.iterchildren()):\n",
      "        \n",
      "    artist_struct = formatXML(artist)\n",
      "    #pprint( artist_struct )\n",
      "    \n",
      "    artist_id = int(artist_struct['id'])\n",
      "    \n",
      "    name = artist_struct['name']\n",
      "        \n",
      "    if not isinstance(name, (str, unicode)):\n",
      "        print 'BAD NAME: ', name\n",
      "        continue\n",
      "        \n",
      "    # Populate primary name\n",
      "    id_to_name[artist_id] = name\n",
      "                "
     ],
     "language": "python",
     "metadata": {},
     "outputs": [
      {
       "output_type": "stream",
       "stream": "stdout",
       "text": [
        "BAD NAME:  {}\n"
       ]
      }
     ],
     "prompt_number": 6
    },
    {
     "cell_type": "code",
     "collapsed": false,
     "input": [
      "name_to_id = {}\n",
      "\n",
      "for i, artist in enumerate(root.iterchildren()):\n",
      "        \n",
      "    artist_struct = formatXML(artist)\n",
      "    #pprint( artist_struct )\n",
      "    \n",
      "    artist_id = int(artist_struct['id'])\n",
      "    \n",
      "    name = artist_struct['name']\n",
      "        \n",
      "    if not isinstance(name, (str, unicode)):\n",
      "        print 'BAD NAME: ', name\n",
      "        continue\n",
      "        \n",
      "    # Populate primary name\n",
      "    name_to_id[name] = artist_id \n",
      "    \n",
      "    \n",
      "    # Populate name variations\n",
      "    for key in ['namevariations']:\n",
      "        if key in artist_struct:\n",
      "            if not isinstance(artist_struct[key]['name'], (list, tuple)):\n",
      "                artist_struct[key]['name'] = [artist_struct[key]['name']]\n",
      "                \n",
      "            for variation in artist_struct[key]['name']:\n",
      "                if not isinstance(variation, (str, unicode)):\n",
      "                    print 'BAD VARIATION: %s\\t[%s]' % (name,variation)\n",
      "                    continue\n",
      "                name_to_id[variation] = artist_id\n",
      "                "
     ],
     "language": "python",
     "metadata": {},
     "outputs": [
      {
       "output_type": "stream",
       "stream": "stdout",
       "text": [
        "BAD NAME:  {}\n"
       ]
      }
     ],
     "prompt_number": 6
    },
    {
     "cell_type": "code",
     "collapsed": false,
     "input": [
      "with open('/home/bmcfee/git/hamr_2014/data/name_to_id.pickle', 'w') as f:\n",
      "    pickle.dump(name_to_id, f, protocol=-1)"
     ],
     "language": "python",
     "metadata": {},
     "outputs": [],
     "prompt_number": 14
    },
    {
     "cell_type": "code",
     "collapsed": false,
     "input": [
      "with open('/home/bmcfee/git/hamr_2014/data/id_to_name.pickle', 'w') as f:\n",
      "    pickle.dump(id_to_name, f, protocol=-1)"
     ],
     "language": "python",
     "metadata": {},
     "outputs": [],
     "prompt_number": 7
    },
    {
     "cell_type": "markdown",
     "metadata": {},
     "source": [
      "# data structure\n",
      "Alias mapping\n",
      "\n",
      "* For each artist x:\n",
      "  * For each alias y:\n",
      "    * Add links `(x.id, y.id)`, `(y.id, x.id)`"
     ]
    },
    {
     "cell_type": "code",
     "collapsed": false,
     "input": [
      "name_to_id['Josh Wink'], name_to_id['Crusher, The']"
     ],
     "language": "python",
     "metadata": {},
     "outputs": [
      {
       "metadata": {},
       "output_type": "pyout",
       "prompt_number": 16,
       "text": [
        "(3, 95949)"
       ]
      }
     ],
     "prompt_number": 16
    },
    {
     "cell_type": "code",
     "collapsed": false,
     "input": [
      "artist_aliases = {}\n",
      "\n",
      "for i, artist in enumerate(root.iterchildren()):\n",
      "        \n",
      "    artist_struct = formatXML(artist)\n",
      "    #pprint( artist_struct )\n",
      "    \n",
      "    \n",
      "        \n",
      "    for key in ['aliases']:\n",
      "        if key in artist_struct:\n",
      "            if not isinstance(artist_struct[key]['name'], (list, tuple)):\n",
      "                artist_struct[key]['name'] = [artist_struct[key]['name']]\n",
      "                \n",
      "            for variation in artist_struct[key]['name']:\n",
      "                if not isinstance(variation, (str, unicode)):\n",
      "                    print 'BAD VARIATION: %s\\t[%s]' % (name,variation)\n",
      "                    continue\n",
      "                    \n",
      "                if variation not in name_to_id:\n",
      "                    continue\n",
      "                    \n",
      "                alias_id = name_to_id[variation]\n",
      "                \n",
      "                if alias_id  not in artist_aliases:\n",
      "                    artist_aliases[alias_id] = set()\n",
      "                \n",
      "                if artist_id not in artist_aliases:\n",
      "                    artist_aliases[artist_id] = set()\n",
      "                \n",
      "                artist_aliases[alias_id].add(artist_id)\n",
      "                artist_aliases[artist_id].add(alias_id)"
     ],
     "language": "python",
     "metadata": {},
     "outputs": [
      {
       "output_type": "stream",
       "stream": "stdout",
       "text": [
        "BAD VARIATION: Infinity\t[{}]\n",
        "BAD NAME: "
       ]
      },
      {
       "output_type": "stream",
       "stream": "stdout",
       "text": [
        " {}\n",
        "BAD VARIATION: Aliens From Earth\t[{}]"
       ]
      },
      {
       "output_type": "stream",
       "stream": "stdout",
       "text": [
        "\n",
        "BAD VARIATION: Club Nation\t[{}]"
       ]
      },
      {
       "output_type": "stream",
       "stream": "stdout",
       "text": [
        "\n",
        "BAD VARIATION: Club Nation\t[{}]\n",
        "BAD VARIATION: Factor-F\t[{}]"
       ]
      },
      {
       "output_type": "stream",
       "stream": "stdout",
       "text": [
        "\n"
       ]
      }
     ],
     "prompt_number": 22
    },
    {
     "cell_type": "code",
     "collapsed": false,
     "input": [
      "with open('/home/bmcfee/git/hamr_2014/data/artist_aliases.pickle', 'w') as f:\n",
      "    pickle.dump(artist_aliases, f, protocol=-1)"
     ],
     "language": "python",
     "metadata": {},
     "outputs": [],
     "prompt_number": 23
    },
    {
     "cell_type": "markdown",
     "metadata": {},
     "source": [
      "# Data structure\n",
      "* group_members\n",
      "  * group id => set(artist ids)"
     ]
    },
    {
     "cell_type": "code",
     "collapsed": false,
     "input": [
      "group_members = {}\n",
      "\n",
      "for i, artist in enumerate(root.iterchildren()):\n",
      "        \n",
      "    artist_struct = formatXML(artist)\n",
      "    #pprint( artist_struct )\n",
      "    \n",
      "    artist_id = int(artist_struct['id'])\n",
      "    \n",
      "    name = artist_struct['name']\n",
      "        \n",
      "    if not isinstance(name, (str, unicode)):\n",
      "        print 'BAD NAME: ', name\n",
      "        continue\n",
      "        \n",
      "    if 'groups' not in artist_struct and 'members' not in artist_struct:\n",
      "        continue\n",
      "        \n",
      "    # Are we a member?\n",
      "    if 'groups' in artist_struct:\n",
      "        groups = artist_struct['groups']['name']\n",
      "        \n",
      "        if not isinstance(groups, (list, tuple)):\n",
      "            groups = [groups]\n",
      "        \n",
      "        for g in groups:\n",
      "            if not isinstance(g, (str, unicode)):\n",
      "                continue\n",
      "                \n",
      "            if g not in name_to_id:\n",
      "                continue\n",
      "                \n",
      "            g_id = name_to_id[g]\n",
      "            \n",
      "            if g_id not in group_members:\n",
      "                group_members[g_id] = set()\n",
      "                \n",
      "            group_members[g_id].add(artist_id)\n",
      "    \n",
      "    # Or are we a group?\n",
      "    else:\n",
      "        \n",
      "        members = artist_struct['members']['name']\n",
      "        \n",
      "        if not isinstance(members, (list, tuple)):\n",
      "            members = [members]\n",
      "        \n",
      "        for m in members:\n",
      "            if not isinstance(m, (str, unicode)):\n",
      "                continue\n",
      "                \n",
      "            if m not in name_to_id:\n",
      "                continue\n",
      "                \n",
      "            m_id = name_to_id[m]\n",
      "            \n",
      "            if artist_id not in group_members:\n",
      "                group_members[artist_id] = set()\n",
      "                \n",
      "            group_members[artist_id].add(m_id)\n",
      "    "
     ],
     "language": "python",
     "metadata": {},
     "outputs": [
      {
       "output_type": "stream",
       "stream": "stdout",
       "text": [
        "BAD NAME:  {}\n"
       ]
      }
     ],
     "prompt_number": 31
    },
    {
     "cell_type": "code",
     "collapsed": false,
     "input": [
      "with open('/home/bmcfee/git/hamr_2014/data/group_members.pickle', 'w') as f:\n",
      "    pickle.dump(group_members, f, protocol=-1)"
     ],
     "language": "python",
     "metadata": {},
     "outputs": [],
     "prompt_number": 32
    },
    {
     "cell_type": "markdown",
     "metadata": {},
     "source": [
      "---"
     ]
    },
    {
     "cell_type": "markdown",
     "metadata": {},
     "source": [
      "Reloading"
     ]
    },
    {
     "cell_type": "code",
     "collapsed": false,
     "input": [
      "import ujson as json\n",
      "import lxml.etree\n",
      "import lxml.objectify\n",
      "from pprint import pprint\n",
      "import cPickle as pickle"
     ],
     "language": "python",
     "metadata": {},
     "outputs": [],
     "prompt_number": 1
    },
    {
     "cell_type": "code",
     "collapsed": false,
     "input": [
      "name_to_id     = pickle.load(open('/home/bmcfee/git/hamr_2014/data/name_to_id.pickle', 'r'))\n",
      "id_to_name     = pickle.load(open('/home/bmcfee/git/hamr_2014/data/id_to_name.pickle', 'r'))"
     ],
     "language": "python",
     "metadata": {},
     "outputs": [],
     "prompt_number": 2
    },
    {
     "cell_type": "code",
     "collapsed": false,
     "input": [
      "artist_aliases = pickle.load(open('/home/bmcfee/git/hamr_2014/data/artist_aliases.pickle', 'r'))"
     ],
     "language": "python",
     "metadata": {},
     "outputs": [],
     "prompt_number": 3
    },
    {
     "cell_type": "code",
     "collapsed": false,
     "input": [
      "group_members  = pickle.load(open('/home/bmcfee/git/hamr_2014/data/group_members.pickle', 'r'))"
     ],
     "language": "python",
     "metadata": {},
     "outputs": [],
     "prompt_number": 4
    },
    {
     "cell_type": "code",
     "collapsed": false,
     "input": [
      "print len(name_to_id), len(id_to_name)\n",
      "print len(artist_aliases)\n",
      "print len(group_members)"
     ],
     "language": "python",
     "metadata": {},
     "outputs": [
      {
       "output_type": "stream",
       "stream": "stdout",
       "text": [
        "4158669 3155564\n",
        "212856\n",
        "176789\n"
       ]
      }
     ],
     "prompt_number": 12
    },
    {
     "cell_type": "code",
     "collapsed": false,
     "input": [
      "for i, k in enumerate(group_members):\n",
      "    group = k\n",
      "    if i > 210:\n",
      "        break"
     ],
     "language": "python",
     "metadata": {},
     "outputs": [],
     "prompt_number": 67
    },
    {
     "cell_type": "code",
     "collapsed": false,
     "input": [
      "id_to_name[group]"
     ],
     "language": "python",
     "metadata": {},
     "outputs": [
      {
       "metadata": {},
       "output_type": "pyout",
       "prompt_number": 68,
       "text": [
        "'Pink Slip Daddy'"
       ]
      }
     ],
     "prompt_number": 68
    },
    {
     "cell_type": "code",
     "collapsed": false,
     "input": [
      "[id_to_name[i] for i in group_members[group]]"
     ],
     "language": "python",
     "metadata": {},
     "outputs": [
      {
       "metadata": {},
       "output_type": "pyout",
       "prompt_number": 69,
       "text": [
        "['Ben Vaughn', 'Barb Dwyer', 'Mick Cancer', 'Palmyra Delran']"
       ]
      }
     ],
     "prompt_number": 69
    },
    {
     "cell_type": "markdown",
     "metadata": {},
     "source": [
      "# Invert the group membership map"
     ]
    },
    {
     "cell_type": "code",
     "collapsed": false,
     "input": [
      "member_to_group = {}\n",
      "for group in group_members:\n",
      "    for member in group_members[group]:\n",
      "        if member not in member_to_group:\n",
      "            member_to_group[member] = set()\n",
      "        member_to_group[member].add(group)"
     ],
     "language": "python",
     "metadata": {},
     "outputs": [],
     "prompt_number": 70
    },
    {
     "cell_type": "code",
     "collapsed": false,
     "input": [
      "with open('/home/bmcfee/git/hamr_2014/data/member_to_group.pickle', 'w') as f:\n",
      "    pickle.dump(member_to_group, f, protocol=-1)"
     ],
     "language": "python",
     "metadata": {},
     "outputs": [],
     "prompt_number": 71
    },
    {
     "cell_type": "markdown",
     "metadata": {},
     "source": [
      "---"
     ]
    },
    {
     "cell_type": "code",
     "collapsed": false,
     "input": [],
     "language": "python",
     "metadata": {},
     "outputs": []
    }
   ],
   "metadata": {}
  }
 ]
}